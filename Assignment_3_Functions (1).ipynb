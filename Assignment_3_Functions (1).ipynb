{
  "nbformat": 4,
  "nbformat_minor": 0,
  "metadata": {
    "colab": {
      "provenance": []
    },
    "kernelspec": {
      "name": "python3",
      "display_name": "Python 3"
    },
    "language_info": {
      "name": "python"
    }
  },
  "cells": [
    {
      "cell_type": "markdown",
      "source": [
        "1. What is the difference between a function and a method in Python?\n",
        "\n"
      ],
      "metadata": {
        "id": "xlLuuiR58D68"
      }
    },
    {
      "cell_type": "markdown",
      "source": [
        "In Python, both functions and methods are blocks of reusable code, but they differ in how they are associated with data and objects. Here's the distinction:"
      ],
      "metadata": {
        "id": "_4HverG28XMh"
      }
    },
    {
      "cell_type": "code",
      "source": [
        "1. Function:\n",
        "\n",
        "1) A function is a standalone block of code that can be defined using the def keyword.\n",
        "\n",
        "2) Functions are not bound to any object and can be called independently.\n",
        "\n",
        "3) Functions can take arguments and return a value."
      ],
      "metadata": {
        "id": "SHu-s05R87TP"
      },
      "execution_count": null,
      "outputs": []
    },
    {
      "cell_type": "code",
      "source": [
        "Example of a function:"
      ],
      "metadata": {
        "id": "nWq-6gou9CKq"
      },
      "execution_count": null,
      "outputs": []
    },
    {
      "cell_type": "code",
      "source": [
        "def greet(name):\n",
        "    return f\"Hello, {name}!\"\n",
        "\n",
        "print(greet(\"Alice\"))"
      ],
      "metadata": {
        "id": "3UAnYRwL9Fi5"
      },
      "execution_count": null,
      "outputs": []
    },
    {
      "cell_type": "code",
      "source": [
        "2. Method:\n",
        "\n",
        "1) A method is a function that is associated with an object or class. It is defined within a class and typically operates on the data (attributes) of the object (an instance of the class).\n",
        "\n",
        "2) Methods are invoked on an object (e.g., object.method()) and often use self to refer to the object instance they belong to.\n",
        "\n",
        "3) Methods are like functions but with an implicit first argument (self for instance methods) that refers to the object on which the method is called.\n"
      ],
      "metadata": {
        "id": "y47llQaJ9Hs7"
      },
      "execution_count": null,
      "outputs": []
    },
    {
      "cell_type": "code",
      "source": [
        "Example of a method:"
      ],
      "metadata": {
        "id": "u_MHBeZ29Q5R"
      },
      "execution_count": null,
      "outputs": []
    },
    {
      "cell_type": "code",
      "source": [
        "class Greeter:\n",
        "    def __init__(self, name):\n",
        "        self.name = name\n",
        "\n",
        "    def greet(self):\n",
        "        return f\"Hello, {self.name}!\"\n",
        "\n",
        "greeter = Greeter(\"Alice\")\n",
        "print(greeter.greet())"
      ],
      "metadata": {
        "id": "x_jlc9eH9Tuq"
      },
      "execution_count": null,
      "outputs": []
    },
    {
      "cell_type": "code",
      "source": [
        "Key Differences:\n",
        "\n",
        " 1) Scope: A function is independent and can be called anywhere, whereas a method is defined within a class.\n",
        "    associated with class instances (or the class itself in the case of class methods).\n",
        "\n",
        " 2) Invocation: A function is called by its name (greet(\"Alice\")), while a method is called on an object or class (greeter.greet()).\n",
        "\n",
        "3)  Binding: A function is not bound to any object, while a method is bound to the object (or class) and often operates on its data.\n"
      ],
      "metadata": {
        "id": "mDcHVBw59WGj"
      },
      "execution_count": null,
      "outputs": []
    },
    {
      "cell_type": "markdown",
      "source": [
        "2. Explain the concept of function arguments and parameters in Python?"
      ],
      "metadata": {
        "id": "8lpSoQ1x9nci"
      }
    },
    {
      "cell_type": "markdown",
      "source": [
        "In Python, function arguments and parameters are related to the values that are passed to a function and the variables that receive those values inside the function. Here's the distinction between the two:"
      ],
      "metadata": {
        "id": "XQB7fdDE9xWj"
      }
    },
    {
      "cell_type": "code",
      "source": [
        "1. Parameters\n",
        "\n",
        "Parameters are the variables defined in a function's signature (definition).\n",
        "These act as placeholders that receive the values (arguments) when the function is called."
      ],
      "metadata": {
        "id": "xLpX3cs-90jL"
      },
      "execution_count": null,
      "outputs": []
    },
    {
      "cell_type": "code",
      "source": [
        "For example:"
      ],
      "metadata": {
        "id": "Fgo4rZdM95g8"
      },
      "execution_count": null,
      "outputs": []
    },
    {
      "cell_type": "code",
      "source": [
        "def greet(name):\n",
        "    print(f\"Hello, {name}!\")"
      ],
      "metadata": {
        "id": "ssaZDvSj994r"
      },
      "execution_count": null,
      "outputs": []
    },
    {
      "cell_type": "code",
      "source": [
        "Here, name is the parameter."
      ],
      "metadata": {
        "id": "r0EzZp7K-Cch"
      },
      "execution_count": null,
      "outputs": []
    },
    {
      "cell_type": "code",
      "source": [
        "2. Arguments\n",
        "\n",
        "Arguments are the actual values passed to the function when it's called. These values are assigned to the corresponding parameters."
      ],
      "metadata": {
        "id": "hRpMQSqO-VkK"
      },
      "execution_count": null,
      "outputs": []
    },
    {
      "cell_type": "code",
      "source": [
        "For example:"
      ],
      "metadata": {
        "id": "WZvi5wO1-aIh"
      },
      "execution_count": null,
      "outputs": []
    },
    {
      "cell_type": "code",
      "source": [
        "greet(\"Alice\")"
      ],
      "metadata": {
        "id": "f6I8yoAP-dBC"
      },
      "execution_count": null,
      "outputs": []
    },
    {
      "cell_type": "code",
      "source": [
        "Here, \"Alice\" is the argument passed to the greet function, and it's assigned to the parameter name."
      ],
      "metadata": {
        "id": "1MAIonxE-egJ"
      },
      "execution_count": null,
      "outputs": []
    },
    {
      "cell_type": "code",
      "source": [
        "Key Differences:\n",
        "\n",
        "1) Parameters are defined in the function's definition.\n",
        "\n",
        "2) Arguments are the actual data you provide to the function when calling it.\n"
      ],
      "metadata": {
        "id": "YdI8OhLD-hWh"
      },
      "execution_count": null,
      "outputs": []
    },
    {
      "cell_type": "code",
      "source": [
        "Types of Arguments:"
      ],
      "metadata": {
        "id": "xScyu-K0-mXR"
      },
      "execution_count": null,
      "outputs": []
    },
    {
      "cell_type": "code",
      "source": [
        "1. Positional Arguments: These are matched with parameters based on their position.\n"
      ],
      "metadata": {
        "id": "C_KveVkk-ogl"
      },
      "execution_count": null,
      "outputs": []
    },
    {
      "cell_type": "code",
      "source": [
        "def add(a, b):\n",
        "    return a + b\n",
        "add(5, 3)  # 5 is assigned to a, 3 is assigned to b"
      ],
      "metadata": {
        "id": "Ku4Q-Suy-rt8"
      },
      "execution_count": null,
      "outputs": []
    },
    {
      "cell_type": "code",
      "source": [
        "2. Keyword Arguments: These are matched by name, allowing you to specify the values for specific parameters regardless of their position."
      ],
      "metadata": {
        "id": "DzDMxCnp-thC"
      },
      "execution_count": null,
      "outputs": []
    },
    {
      "cell_type": "code",
      "source": [
        "add(b=5, a=3)  # You can swap the order using keyword arguments"
      ],
      "metadata": {
        "id": "NOmMyMQu-xIK"
      },
      "execution_count": null,
      "outputs": []
    },
    {
      "cell_type": "code",
      "source": [
        "3. Default Arguments: These parameters have default values, which are used if no argument is provided."
      ],
      "metadata": {
        "id": "yh-cP8S6-z7B"
      },
      "execution_count": null,
      "outputs": []
    },
    {
      "cell_type": "code",
      "source": [
        "def greet(name=\"Guest\"):\n",
        "    print(f\"Hello, {name}!\")\n",
        "greet()  # Uses the default value \"Guest\""
      ],
      "metadata": {
        "id": "JQiUnYlU-29F"
      },
      "execution_count": null,
      "outputs": []
    },
    {
      "cell_type": "code",
      "source": [
        "4. Arbitrary Arguments: Functions can accept any number of arguments using *args (for non-keyword arguments) and **kwargs (for keyword arguments)."
      ],
      "metadata": {
        "id": "KDhkwzy8-5Kr"
      },
      "execution_count": null,
      "outputs": []
    },
    {
      "cell_type": "code",
      "source": [
        "def greet_all(*names):\n",
        "    for name in names:\n",
        "        print(f\"Hello, {name}!\")\n",
        "greet_all(\"Alice\", \"Bob\", \"Charlie\")"
      ],
      "metadata": {
        "id": "Jh2va0wK-9kT"
      },
      "execution_count": null,
      "outputs": []
    },
    {
      "cell_type": "markdown",
      "source": [
        "To summarize: parameters are placeholders in a function definition, while arguments are the actual values you pass when calling the function."
      ],
      "metadata": {
        "id": "qA_WDRDK_DqK"
      }
    },
    {
      "cell_type": "markdown",
      "source": [
        "3. What are the different ways to define and call a function in Python?"
      ],
      "metadata": {
        "id": "vrL-8na5_GXb"
      }
    },
    {
      "cell_type": "markdown",
      "source": [
        "In Python, functions are defined using the def keyword or as anonymous (lambda) functions. Here are the different ways to define and call functions in Python:\n"
      ],
      "metadata": {
        "id": "nB27gKhp_RRc"
      }
    },
    {
      "cell_type": "code",
      "source": [
        "1. Using def to Define a Function"
      ],
      "metadata": {
        "id": "yuMRTiNw_UK5"
      },
      "execution_count": null,
      "outputs": []
    },
    {
      "cell_type": "code",
      "source": [
        "A function is defined using the def keyword followed by the function name, parameters (optional), and a colon.\n",
        "The body of the function contains the code to execute when the function is called."
      ],
      "metadata": {
        "id": "9kKSciXg_XLx"
      },
      "execution_count": null,
      "outputs": []
    },
    {
      "cell_type": "code",
      "source": [
        "Example:-"
      ],
      "metadata": {
        "id": "kLqp6LE__bIE"
      },
      "execution_count": null,
      "outputs": []
    },
    {
      "cell_type": "code",
      "source": [
        "def greet(name):\n",
        "    return f\"Hello, {name}!\"\n",
        "\n",
        "# Calling the function\n",
        "print(greet(\"Alice\"))"
      ],
      "metadata": {
        "id": "47cqazgP_dzC"
      },
      "execution_count": null,
      "outputs": []
    },
    {
      "cell_type": "code",
      "source": [
        "Output: Hello, Alice!"
      ],
      "metadata": {
        "id": "Xd2Qk6rk_gHh"
      },
      "execution_count": null,
      "outputs": []
    },
    {
      "cell_type": "code",
      "source": [
        "2. Default Arguments in Function"
      ],
      "metadata": {
        "id": "bTA8vDaC_h6p"
      },
      "execution_count": null,
      "outputs": []
    },
    {
      "cell_type": "code",
      "source": [
        "You can assign default values to function arguments, which are used if no argument is provided during the function call."
      ],
      "metadata": {
        "id": "afahXn7Y_laZ"
      },
      "execution_count": null,
      "outputs": []
    },
    {
      "cell_type": "code",
      "source": [
        "Example:"
      ],
      "metadata": {
        "id": "41QV3mPU_oax"
      },
      "execution_count": null,
      "outputs": []
    },
    {
      "cell_type": "code",
      "source": [
        "def greet(name=\"World\"):\n",
        "    return f\"Hello, {name}!\"\n",
        "\n",
        "# Calling the function with and without an argument\n",
        "print(greet())        # Output: Hello, World!\n",
        "print(greet(\"Alice\")) # Output: Hello, Alice!"
      ],
      "metadata": {
        "colab": {
          "base_uri": "https://localhost:8080/"
        },
        "id": "mzXeQVL2_qXS",
        "outputId": "74f659d1-1f95-44f9-bd31-c1ec37f001fb"
      },
      "execution_count": null,
      "outputs": [
        {
          "output_type": "stream",
          "name": "stdout",
          "text": [
            "Hello, World!\n",
            "Hello, Alice!\n"
          ]
        }
      ]
    },
    {
      "cell_type": "code",
      "source": [
        "3. Keyword Arguments"
      ],
      "metadata": {
        "id": "Crd1HW53_sia"
      },
      "execution_count": null,
      "outputs": []
    },
    {
      "cell_type": "code",
      "source": [
        "When calling a function, you can specify arguments using keywords, which makes the order of arguments flexible."
      ],
      "metadata": {
        "id": "QWY_shdx_w9S"
      },
      "execution_count": null,
      "outputs": []
    },
    {
      "cell_type": "code",
      "source": [
        "Example:"
      ],
      "metadata": {
        "id": "dQBdikx1_zGR"
      },
      "execution_count": null,
      "outputs": []
    },
    {
      "cell_type": "code",
      "source": [
        "def greet(name, greeting=\"Hello\"):\n",
        "    return f\"{greeting}, {name}!\"\n",
        "\n",
        "# Calling the function with keyword arguments\n",
        "print(greet(name=\"Alice\", greeting=\"Hi\"))  # Output: Hi, Alice!\n",
        "print(greet(greeting=\"Welcome\", name=\"Bob\"))  # Output: Welcome, Bob!"
      ],
      "metadata": {
        "colab": {
          "base_uri": "https://localhost:8080/"
        },
        "id": "Pamx5PnQ_1ZJ",
        "outputId": "ebe32fb9-3537-4ba3-d835-d2775f55bb70"
      },
      "execution_count": null,
      "outputs": [
        {
          "output_type": "stream",
          "name": "stdout",
          "text": [
            "Hi, Alice!\n",
            "Welcome, Bob!\n"
          ]
        }
      ]
    },
    {
      "cell_type": "code",
      "source": [
        "4. Variable-Length Arguments"
      ],
      "metadata": {
        "id": "qJBJhmnm_3Cp"
      },
      "execution_count": null,
      "outputs": []
    },
    {
      "cell_type": "code",
      "source": [
        "Functions can accept a variable number of arguments using *args for positional arguments and **kwargs for keyword arguments.\n",
        "\n",
        "1) *args collects extra positional arguments into a tuple.\n",
        "\n",
        "2) **kwargs collects extra keyword arguments into a dictionary."
      ],
      "metadata": {
        "id": "ZCpysZeuAKZU"
      },
      "execution_count": null,
      "outputs": []
    },
    {
      "cell_type": "code",
      "source": [
        "Example:"
      ],
      "metadata": {
        "id": "z2XiYn1kAQGx"
      },
      "execution_count": null,
      "outputs": []
    },
    {
      "cell_type": "code",
      "source": [
        "def add_numbers(*args):\n",
        "    return sum(args)\n",
        "\n",
        "def display_info(**kwargs):\n",
        "    for key, value in kwargs.items():\n",
        "        print(f\"{key}: {value}\")\n",
        "\n",
        "# Calling the function with variable arguments\n",
        "print(add_numbers(1, 2, 3))  # Output: 6\n",
        "display_info(name=\"Alice\", age=25)  # Output: name: Alice, age: 25"
      ],
      "metadata": {
        "colab": {
          "base_uri": "https://localhost:8080/"
        },
        "id": "yCF0jFMfAS-l",
        "outputId": "c9c65088-3c87-49f9-f626-19f97b8dd305"
      },
      "execution_count": null,
      "outputs": [
        {
          "output_type": "stream",
          "name": "stdout",
          "text": [
            "6\n",
            "name: Alice\n",
            "age: 25\n"
          ]
        }
      ]
    },
    {
      "cell_type": "code",
      "source": [
        "5. Anonymous Functions (Lambda Functions)"
      ],
      "metadata": {
        "id": "v08ttc7NAWFT"
      },
      "execution_count": null,
      "outputs": []
    },
    {
      "cell_type": "code",
      "source": [
        "Lambda functions are small, anonymous functions defined using the lambda keyword. They can have any number of arguments but only one expression."
      ],
      "metadata": {
        "id": "GKBZNeO6BEMt"
      },
      "execution_count": null,
      "outputs": []
    },
    {
      "cell_type": "code",
      "source": [
        "Example:"
      ],
      "metadata": {
        "id": "JldhpqnaBGKc"
      },
      "execution_count": null,
      "outputs": []
    },
    {
      "cell_type": "code",
      "source": [
        "# A lambda function to add two numbers\n",
        "add = lambda x, y: x + y\n",
        "\n",
        "# Calling the lambda function\n",
        "print(add(5, 3))  # Output: 8"
      ],
      "metadata": {
        "colab": {
          "base_uri": "https://localhost:8080/"
        },
        "id": "ZGZ_QnkwBHzK",
        "outputId": "9af6431d-e2c3-483e-9c79-0ef628c8ed7b"
      },
      "execution_count": null,
      "outputs": [
        {
          "output_type": "stream",
          "name": "stdout",
          "text": [
            "8\n"
          ]
        }
      ]
    },
    {
      "cell_type": "code",
      "source": [
        "6. Higher-Order Functions"
      ],
      "metadata": {
        "id": "z8cgXU4ZBOti"
      },
      "execution_count": null,
      "outputs": []
    },
    {
      "cell_type": "code",
      "source": [
        "Functions can accept other functions as arguments or return functions, often used with lambdas or other function definitions."
      ],
      "metadata": {
        "id": "QFpjrAi3BRvo"
      },
      "execution_count": null,
      "outputs": []
    },
    {
      "cell_type": "code",
      "source": [
        "Example:"
      ],
      "metadata": {
        "id": "uux-K2tLBU6S"
      },
      "execution_count": null,
      "outputs": []
    },
    {
      "cell_type": "code",
      "source": [
        "def apply_func(func, value):\n",
        "    return func(value)\n",
        "\n",
        "double = lambda x: x * 2\n",
        "print(apply_func(double, 5))  # Output: 10"
      ],
      "metadata": {
        "colab": {
          "base_uri": "https://localhost:8080/"
        },
        "id": "yXPF2Z3EBXSr",
        "outputId": "dcae0ba6-7da8-4df9-fda1-4490390079d2"
      },
      "execution_count": null,
      "outputs": [
        {
          "output_type": "stream",
          "name": "stdout",
          "text": [
            "10\n"
          ]
        }
      ]
    },
    {
      "cell_type": "code",
      "source": [
        "7. Recursive Functions"
      ],
      "metadata": {
        "id": "KeKTNPvlBZbR"
      },
      "execution_count": null,
      "outputs": []
    },
    {
      "cell_type": "code",
      "source": [
        "A function can call itself, which is known as recursion. This is often used in problems like calculating factorials or traversing data structures."
      ],
      "metadata": {
        "id": "0FIDovmOBeTB"
      },
      "execution_count": null,
      "outputs": []
    },
    {
      "cell_type": "code",
      "source": [
        "Example:"
      ],
      "metadata": {
        "id": "z9lRFu8MBf-q"
      },
      "execution_count": null,
      "outputs": []
    },
    {
      "cell_type": "code",
      "source": [
        "def factorial(n):\n",
        "    if n == 1:\n",
        "        return 1\n",
        "    else:\n",
        "        return n * factorial(n - 1)\n",
        "\n",
        "# Calling the recursive function\n",
        "print(factorial(5))  # Output: 120"
      ],
      "metadata": {
        "colab": {
          "base_uri": "https://localhost:8080/"
        },
        "id": "TD_4-i8VBiTz",
        "outputId": "adffb7b7-96b8-497f-b1a2-92a9f103861e"
      },
      "execution_count": null,
      "outputs": [
        {
          "output_type": "stream",
          "name": "stdout",
          "text": [
            "120\n"
          ]
        }
      ]
    },
    {
      "cell_type": "code",
      "source": [
        "8. Nested Functions"
      ],
      "metadata": {
        "id": "MEwf7EZ6Bi9h"
      },
      "execution_count": null,
      "outputs": []
    },
    {
      "cell_type": "code",
      "source": [
        "You can define functions within other functions, which helps to limit their scope."
      ],
      "metadata": {
        "id": "uDqlLgd2BuFR"
      },
      "execution_count": null,
      "outputs": []
    },
    {
      "cell_type": "code",
      "source": [
        "Example"
      ],
      "metadata": {
        "id": "6zg87VkVBwaj"
      },
      "execution_count": null,
      "outputs": []
    },
    {
      "cell_type": "code",
      "source": [
        "def outer_function(text):\n",
        "    def inner_function():\n",
        "        print(text)\n",
        "    inner_function()\n",
        "\n",
        "# Calling the nested function\n",
        "outer_function(\"Hello from inside!\")  # Output: Hello from inside!"
      ],
      "metadata": {
        "colab": {
          "base_uri": "https://localhost:8080/"
        },
        "id": "RfA-7bFZBx4p",
        "outputId": "5ff0da5a-8ae9-4cc1-8011-6ef8fbccafca"
      },
      "execution_count": null,
      "outputs": [
        {
          "output_type": "stream",
          "name": "stdout",
          "text": [
            "Hello from inside!\n"
          ]
        }
      ]
    },
    {
      "cell_type": "code",
      "source": [
        "9. Using Function Objects (First-Class Functions)"
      ],
      "metadata": {
        "id": "8e7MEHxVB0iz"
      },
      "execution_count": null,
      "outputs": []
    },
    {
      "cell_type": "code",
      "source": [
        "In Python, functions are first-class objects, meaning they can be assigned to variables, passed as arguments, and returned from other functions."
      ],
      "metadata": {
        "id": "GX5ir_34Bz8i"
      },
      "execution_count": null,
      "outputs": []
    },
    {
      "cell_type": "code",
      "source": [
        "Example:"
      ],
      "metadata": {
        "id": "_PrzRsjNB48y"
      },
      "execution_count": null,
      "outputs": []
    },
    {
      "cell_type": "code",
      "source": [
        "def greet(name):\n",
        "    return f\"Hello, {name}!\"\n",
        "\n",
        "# Assigning the function to a variable\n",
        "say_hello = greet\n",
        "print(say_hello(\"Bob\"))  # Output: Hello, Bob!"
      ],
      "metadata": {
        "colab": {
          "base_uri": "https://localhost:8080/"
        },
        "id": "LTmElH9XB7Nq",
        "outputId": "07ac44d7-72ff-4f49-8539-325027f35ecd"
      },
      "execution_count": null,
      "outputs": [
        {
          "output_type": "stream",
          "name": "stdout",
          "text": [
            "Hello, Bob!\n"
          ]
        }
      ]
    },
    {
      "cell_type": "markdown",
      "source": [
        "These are the most common ways to define and call functions in Python. Each method offers flexibility depending on your use case, such as handling dynamic arguments, anonymous functions, and recursion.\n",
        "\n",
        "\n",
        "\n"
      ],
      "metadata": {
        "id": "GfISzuTBCBxB"
      }
    },
    {
      "cell_type": "markdown",
      "source": [
        "4. What is the purpose of the `return` statement in a Python function?\n"
      ],
      "metadata": {
        "id": "UymdhkEUCKk8"
      }
    },
    {
      "cell_type": "code",
      "source": [
        "The return statement in a Python function is used to exit the function and send a value back to the caller. It serves two main purposes:\n",
        "\n",
        "1 ) Exit the function: Once a return statement is encountered, the function stops executing and control is passed back to the code that called the function.\n",
        "\n",
        "2)  Return a value: The value or expression provided after the return keyword is sent back to the caller. If no value is provided, None is returned by default.\n"
      ],
      "metadata": {
        "id": "X5eS5iW2CjPz"
      },
      "execution_count": null,
      "outputs": []
    },
    {
      "cell_type": "code",
      "source": [
        "Example:"
      ],
      "metadata": {
        "id": "wDa7KMOWCs1x"
      },
      "execution_count": null,
      "outputs": []
    },
    {
      "cell_type": "code",
      "source": [
        "def add(a, b):\n",
        "    return a + b  # Returns the sum of a and b to the caller\n",
        "\n",
        "result = add(3, 5)\n",
        "print(result)  # Output: 8"
      ],
      "metadata": {
        "colab": {
          "base_uri": "https://localhost:8080/"
        },
        "id": "-hukVX10Cu-S",
        "outputId": "dcfaac32-5b10-41ce-9ed7-a5f15aff455c"
      },
      "execution_count": null,
      "outputs": [
        {
          "output_type": "stream",
          "name": "stdout",
          "text": [
            "8\n"
          ]
        }
      ]
    },
    {
      "cell_type": "markdown",
      "source": [
        "Without return, a function would simply execute its code without sending any result back to the calling code."
      ],
      "metadata": {
        "id": "7vskgqqmC-Ll"
      }
    },
    {
      "cell_type": "markdown",
      "source": [
        "5. What are iterators in Python and how do they differ from iterables?"
      ],
      "metadata": {
        "id": "H3cpDypnDEme"
      }
    },
    {
      "cell_type": "markdown",
      "source": [
        "In Python, iterators and iterables are closely related concepts but have distinct roles:"
      ],
      "metadata": {
        "id": "lNtVg4OADLwS"
      }
    },
    {
      "cell_type": "code",
      "source": [
        "1. Iterables\n",
        "\n",
        "An iterable is any Python object that can return its elements one at a time. These objects implement the __iter__() method, which returns an iterator.\n",
        "Examples of iterables include lists, tuples, strings, dictionaries, sets, and even files.\n"
      ],
      "metadata": {
        "id": "JoZ2HHW8CxDj"
      },
      "execution_count": null,
      "outputs": []
    },
    {
      "cell_type": "code",
      "source": [
        "Examples of iterables:\n",
        "\n",
        "1) Lists: [1, 2, 3]\n",
        "\n",
        "2) Strings: \"hello\"\n",
        "\n",
        "3) Tuples: (1, 2, 3)"
      ],
      "metadata": {
        "id": "6xLXi0afDVSR"
      },
      "execution_count": null,
      "outputs": []
    },
    {
      "cell_type": "code",
      "source": [
        "You can iterate over an iterable using a for loop:"
      ],
      "metadata": {
        "id": "RP-vcf-9DfVj"
      },
      "execution_count": null,
      "outputs": []
    },
    {
      "cell_type": "code",
      "source": [
        "my_list = [1, 2, 3]\n",
        "for element in my_list:\n",
        "    print(element)"
      ],
      "metadata": {
        "id": "g2j0C5r_DiCz"
      },
      "execution_count": null,
      "outputs": []
    },
    {
      "cell_type": "code",
      "source": [
        "2. Iterators"
      ],
      "metadata": {
        "id": "w2ZXLMrmDkjU"
      },
      "execution_count": null,
      "outputs": []
    },
    {
      "cell_type": "code",
      "source": [
        "An iterator is an object that represents a stream of data, providing one element at a time when requested. It keeps track of the current position in the stream. Iterators implement two methods:\n",
        "\n",
        "1) __iter__() – Returns the iterator object itself.\n",
        "\n",
        "2) __next__() – Returns the next value in the stream. When there are no more values, it raises a StopIteration exception."
      ],
      "metadata": {
        "id": "fW5zSoILDm-Z"
      },
      "execution_count": null,
      "outputs": []
    },
    {
      "cell_type": "code",
      "source": [
        "Example of creating an iterator:"
      ],
      "metadata": {
        "id": "fzfqH-hXDtDd"
      },
      "execution_count": null,
      "outputs": []
    },
    {
      "cell_type": "code",
      "source": [
        "my_list = [1, 2, 3]\n",
        "my_iterator = iter(my_list)  # Creates an iterator from the list\n",
        "\n",
        "print(next(my_iterator))  # Output: 1\n",
        "print(next(my_iterator))  # Output: 2\n",
        "print(next(my_iterator))  # Output: 3\n",
        "# Next call will raise StopIteration since there are no more elements."
      ],
      "metadata": {
        "colab": {
          "base_uri": "https://localhost:8080/"
        },
        "id": "PfOf_9UBDv7i",
        "outputId": "71bb70b2-a8c8-448e-ad04-093d4bf2c1a9"
      },
      "execution_count": null,
      "outputs": [
        {
          "output_type": "stream",
          "name": "stdout",
          "text": [
            "1\n",
            "2\n",
            "3\n"
          ]
        }
      ]
    },
    {
      "cell_type": "code",
      "source": [
        "Key Differences:\n",
        "\n",
        "1. Iterables can be converted to iterators:\n",
        "\n",
        "A) Iterables can be passed to the iter() function to create an iterator from them.\n",
        "\n",
        "B) An iterable is like a collection of items, while an iterator is a stateful object that fetches elements from the iterable one at a time.\n"
      ],
      "metadata": {
        "id": "ue39I7kVDzco"
      },
      "execution_count": null,
      "outputs": []
    },
    {
      "cell_type": "code",
      "source": [
        "2. Iterators track position:\n",
        "\n",
        "A) Iterators keep an internal state to track where they are in the iteration process.\n",
        "\n",
        "B) Iterables do not track the current position when used directly in loops, but they generate an iterator that does.\n"
      ],
      "metadata": {
        "id": "Ee7QmEGEEA6J"
      },
      "execution_count": null,
      "outputs": []
    },
    {
      "cell_type": "code",
      "source": [
        "3. Reusability:\n",
        "\n",
        "A) An iterable can be reused to create multiple iterators.\n",
        "\n",
        "B) An iterator, once exhausted, cannot be reused without being reinitialized.\n"
      ],
      "metadata": {
        "id": "GN6SRJYNEGXp"
      },
      "execution_count": null,
      "outputs": []
    },
    {
      "cell_type": "code",
      "source": [
        "Example of the difference:"
      ],
      "metadata": {
        "id": "1FcEAT-1ENf6"
      },
      "execution_count": null,
      "outputs": []
    },
    {
      "cell_type": "code",
      "source": [
        "my_list = [1, 2, 3]  # This is an iterable\n",
        "\n",
        "# Creating an iterator\n",
        "my_iterator = iter(my_list)\n",
        "\n",
        "# You can use next() to get elements one by one\n",
        "print(next(my_iterator))  # Output: 1\n",
        "print(next(my_iterator))  # Output: 2\n",
        "\n",
        "# But the iterable (my_list) can be iterated multiple times\n",
        "for item in my_list:  # No issue iterating multiple times\n",
        "    print(item)\n",
        "\n",
        "# However, the iterator is exhausted after one full iteration\n",
        "for item in my_iterator:  # No output, as it's already exhausted\n",
        "    print(item)"
      ],
      "metadata": {
        "colab": {
          "base_uri": "https://localhost:8080/"
        },
        "id": "my_L92OLEQJl",
        "outputId": "00b3b1b9-a6d7-4024-9edf-3d9b462a2f6c"
      },
      "execution_count": null,
      "outputs": [
        {
          "output_type": "stream",
          "name": "stdout",
          "text": [
            "1\n",
            "2\n",
            "1\n",
            "2\n",
            "3\n",
            "3\n"
          ]
        }
      ]
    },
    {
      "cell_type": "code",
      "source": [
        "Summary:\n",
        "\n",
        "A) Iterable: Can be iterated over (e.g., lists, strings, etc.).\n",
        "\n",
        "B) Iterator: Produces one element at a time from an iterable and keeps track of where it is in the process.\n"
      ],
      "metadata": {
        "id": "eksT7T8LER41"
      },
      "execution_count": null,
      "outputs": []
    },
    {
      "cell_type": "markdown",
      "source": [
        "6. Explain the concept of generators in Python and how they are defined?"
      ],
      "metadata": {
        "id": "5XG7u7K6Edhj"
      }
    },
    {
      "cell_type": "markdown",
      "source": [
        "In Python, generators are a type of iterable, like lists or tuples, but they allow for lazy evaluation. This means that instead of generating all values at once and storing them in memory, generators produce items one at a time and only when needed. This makes them very memory efficient, especially for working with large data sets or infinite sequences."
      ],
      "metadata": {
        "id": "4ksRk7sSEoRp"
      }
    },
    {
      "cell_type": "code",
      "source": [
        "How Generators Work:\n",
        "\n",
        "1) A generator is similar to a function that returns an iterator, but instead of returning values with a return statement, it uses the yield statement.\n",
        "   Each time yield is called, the function's state is \"frozen,\" and it can be resumed later.\n",
        "\n",
        "2) The function retains its local state and variables, so on the next iteration, it picks up right where it left off.\n"
      ],
      "metadata": {
        "id": "3bl8Jrn8EtlC"
      },
      "execution_count": null,
      "outputs": []
    },
    {
      "cell_type": "code",
      "source": [
        "How to Define a Generator:"
      ],
      "metadata": {
        "id": "9NJDYvrSElKx"
      },
      "execution_count": null,
      "outputs": []
    },
    {
      "cell_type": "code",
      "source": [
        "There are two main ways to create generators:\n",
        "\n",
        "Generator Functions: These are defined just like regular functions but use the yield keyword instead of return."
      ],
      "metadata": {
        "id": "OvF-K5roE4bR"
      },
      "execution_count": null,
      "outputs": []
    },
    {
      "cell_type": "code",
      "source": [
        "def my_generator():\n",
        "    yield 1\n",
        "    yield 2\n",
        "    yield 3\n",
        "\n",
        "gen = my_generator()\n",
        "print(next(gen))  # Output: 1\n",
        "print(next(gen))  # Output: 2\n",
        "print(next(gen))  # Output: 3"
      ],
      "metadata": {
        "colab": {
          "base_uri": "https://localhost:8080/"
        },
        "id": "e8cFKAF2E9OH",
        "outputId": "36dd6d14-79d7-4216-b7ba-747e43ed2d26"
      },
      "execution_count": null,
      "outputs": [
        {
          "output_type": "stream",
          "name": "stdout",
          "text": [
            "1\n",
            "2\n",
            "3\n"
          ]
        }
      ]
    },
    {
      "cell_type": "code",
      "source": [
        "Generator Expressions: These are similar to list comprehensions but use parentheses instead of square brackets."
      ],
      "metadata": {
        "id": "5UMR0oTeFBBC"
      },
      "execution_count": null,
      "outputs": []
    },
    {
      "cell_type": "code",
      "source": [
        "gen_exp = (x * x for x in range(5))\n",
        "print(next(gen_exp))  # Output: 0\n",
        "print(next(gen_exp))  # Output: 1"
      ],
      "metadata": {
        "colab": {
          "base_uri": "https://localhost:8080/"
        },
        "id": "d064BHoAFGB5",
        "outputId": "9c7a4e0e-9ee3-448e-981e-af1e5d86379c"
      },
      "execution_count": null,
      "outputs": [
        {
          "output_type": "stream",
          "name": "stdout",
          "text": [
            "0\n",
            "1\n"
          ]
        }
      ]
    },
    {
      "cell_type": "code",
      "source": [
        "Key Characteristics:"
      ],
      "metadata": {
        "id": "qdjbqKqhFH0S"
      },
      "execution_count": null,
      "outputs": []
    },
    {
      "cell_type": "code",
      "source": [
        "1) Lazy Evaluation: Items are produced on-demand, so memory is used efficiently.\n",
        "\n",
        "2) Stateful: Each generator function retains its state between calls.\n",
        "\n",
        "3) Infinite Sequences: Generators are useful for producing infinite sequences without running out of memory, as only one value is produced at a time."
      ],
      "metadata": {
        "id": "t0iAjfC6FMDh"
      },
      "execution_count": null,
      "outputs": []
    },
    {
      "cell_type": "code",
      "source": [
        "Example: Generator for Fibonacci Sequence"
      ],
      "metadata": {
        "id": "EiK2u0jcFZVE"
      },
      "execution_count": null,
      "outputs": []
    },
    {
      "cell_type": "code",
      "source": [
        "def fibonacci():\n",
        "    a, b = 0, 1\n",
        "    while True:\n",
        "        yield a\n",
        "        a, b = b, a + b\n",
        "\n",
        "fib_gen = fibonacci()\n",
        "for _ in range(5):\n",
        "    print(next(fib_gen))"
      ],
      "metadata": {
        "id": "HnfC00FgFebM"
      },
      "execution_count": null,
      "outputs": []
    },
    {
      "cell_type": "markdown",
      "source": [
        "This example produces the Fibonacci sequence indefinitely, but it only computes and returns the next number when requested."
      ],
      "metadata": {
        "id": "HS56PPo5FkPr"
      }
    },
    {
      "cell_type": "markdown",
      "source": [
        "7. What are the advantages of using generators over regular functions?"
      ],
      "metadata": {
        "id": "x9qFCSCOGi31"
      }
    },
    {
      "cell_type": "markdown",
      "source": [
        "Generators offer several advantages over regular functions, particularly when dealing with large datasets or complex workflows. Here are the key benefits:"
      ],
      "metadata": {
        "id": "QVGu4VVzGq7A"
      }
    },
    {
      "cell_type": "code",
      "source": [
        "1. Memory Efficiency\n",
        "\n",
        "A) Generators yield values one at a time, rather than returning the entire result at once like a regular function.\n",
        "   This is particularly useful when working with large datasets because it doesn't require loading the entire data into memory at once.\n",
        "   The generator maintains a small footprint in memory, only storing the state between iterations.\n",
        "\n",
        "B) Regular functions return the entire result (e.g., a list or another structure), which can consume a significant amount of memory if the dataset is large.\n"
      ],
      "metadata": {
        "id": "tjAFQhFrFhGR"
      },
      "execution_count": null,
      "outputs": []
    },
    {
      "cell_type": "code",
      "source": [
        "2. Lazy Evaluation\n",
        "\n",
        "A) Generators provide values lazily, which means they generate the next value only when requested.\n",
        "   This allows the program to begin processing data before the full dataset is available and is highly efficient for streaming or real-time data processing.\n",
        "\n",
        "B) Regular functions compute all values immediately and return them at once, which may lead to unnecessary computation\n",
        "   if only a subset of the results is needed.\n"
      ],
      "metadata": {
        "id": "O3_RU_snGs55"
      },
      "execution_count": null,
      "outputs": []
    },
    {
      "cell_type": "code",
      "source": [
        "3. Improved Performance\n",
        "\n",
        "A) Generators can lead to performance improvements by avoiding unnecessary calculations or memory allocation,\n",
        "   especially in cases where only a portion of the results is needed.\n",
        "\n",
        "B) Regular functions, in contrast, may introduce a delay while calculating the full result set before any data can be used.\n"
      ],
      "metadata": {
        "id": "xe3gKktFHHzE"
      },
      "execution_count": null,
      "outputs": []
    },
    {
      "cell_type": "code",
      "source": [
        "4. Pipelining\n",
        "\n",
        "A) Generators can be used to create data pipelines, where each stage of the pipeline processes items lazily and passes them to the next stage.\n",
        "   This allows for better handling of complex workflows with multiple steps, as data flows seamlessly between stages.\n",
        "\n",
        "B) Regular functions would need to return intermediate data structures, which can increase both memory usage and computational overhead."
      ],
      "metadata": {
        "id": "r_7338UpHjRx"
      },
      "execution_count": null,
      "outputs": []
    },
    {
      "cell_type": "code",
      "source": [
        "5. Infinite Sequences\n",
        "\n",
        "A) Generators are ideal for producing infinite sequences of data, such as Fibonacci numbers or other mathematical series,\n",
        "   since they don't need to allocate memory for the entire sequence at once.\n",
        "\n",
        "B) Regular functions cannot easily handle infinite sequences because they must return all the results at once, which would require infinite memory.\n"
      ],
      "metadata": {
        "id": "UVFhXwzaH0Ap"
      },
      "execution_count": null,
      "outputs": []
    },
    {
      "cell_type": "code",
      "source": [
        "6. State Retention\n",
        "\n",
        "A) Generators automatically maintain their state between executions. When a generator yields a value, it pauses and keeps track of where it left off,\n",
        "   making it simpler to resume complex computations without needing explicit state management.\n",
        "\n",
        "B) Regular functions do not retain state and require additional mechanisms (e.g., global variables or helper objects) to manage intermediate states\n",
        "   between function calls."
      ],
      "metadata": {
        "id": "dtokYKr5IBn5"
      },
      "execution_count": null,
      "outputs": []
    },
    {
      "cell_type": "code",
      "source": [
        "7. More Readable Code\n",
        "\n",
        "A) Generators often lead to more readable code when dealing with large or complex sequences, avoiding nested loops or verbose state management.\n",
        "\n",
        "B) Regular functions may require extra logic to handle large iterations, resulting in more complex and harder-to-read code."
      ],
      "metadata": {
        "id": "bieT3YZ-IPhb"
      },
      "execution_count": null,
      "outputs": []
    },
    {
      "cell_type": "markdown",
      "source": [
        "In summary, generators are preferable in scenarios where memory efficiency, lazy evaluation, or handling infinite sequences is essential. Regular functions are more appropriate for cases where all results need to be computed and returned at once."
      ],
      "metadata": {
        "id": "Yl7cS7xCIYlp"
      }
    },
    {
      "cell_type": "markdown",
      "source": [
        "8. What is a lambda function in Python and when is it typically used?"
      ],
      "metadata": {
        "id": "kCZn3yPTIbNC"
      }
    },
    {
      "cell_type": "markdown",
      "source": [
        "A lambda function in Python is a small, anonymous function defined using the lambda keyword. Unlike regular functions defined using the def keyword, a lambda function can have any number of parameters but only a single expression, which is evaluated and returned."
      ],
      "metadata": {
        "id": "7uhP5r6oIgtp"
      }
    },
    {
      "cell_type": "code",
      "source": [
        "Syntax:"
      ],
      "metadata": {
        "id": "19Bl0DGpIloB"
      },
      "execution_count": null,
      "outputs": []
    },
    {
      "cell_type": "code",
      "source": [
        "lambda arguments: expression"
      ],
      "metadata": {
        "id": "CZdqSJweInaw"
      },
      "execution_count": null,
      "outputs": []
    },
    {
      "cell_type": "code",
      "source": [
        "A) arguments: Input parameters (comma-separated if multiple).\n",
        "\n",
        "B) expression: The operation to perform (must return a value)."
      ],
      "metadata": {
        "id": "d_46LAMcIuhR"
      },
      "execution_count": null,
      "outputs": []
    },
    {
      "cell_type": "code",
      "source": [
        "Example:"
      ],
      "metadata": {
        "id": "4YjRQ_ygI5Rj"
      },
      "execution_count": null,
      "outputs": []
    },
    {
      "cell_type": "code",
      "source": [
        "add = lambda x, y: x + y\n",
        "print(add(3, 5))  # Output: 8"
      ],
      "metadata": {
        "colab": {
          "base_uri": "https://localhost:8080/"
        },
        "id": "SxjTw4KpI8mb",
        "outputId": "928dc21f-1864-4bc7-cf01-8c8dfe8e9ea4"
      },
      "execution_count": null,
      "outputs": [
        {
          "output_type": "stream",
          "name": "stdout",
          "text": [
            "8\n"
          ]
        }
      ]
    },
    {
      "cell_type": "code",
      "source": [
        "This defines an anonymous function that adds two numbers and assigns it to the variable add."
      ],
      "metadata": {
        "id": "UTm1zcKUI9VO"
      },
      "execution_count": null,
      "outputs": []
    },
    {
      "cell_type": "code",
      "source": [
        "When is a lambda function used?\n",
        "\n",
        "1) Single-use functions: Lambda functions are often used in places where a function is needed for a short period and defining a full function\n",
        "   using def would be overkill.\n",
        "\n",
        "2) Functional programming tools: They are frequently used with functions like map(), filter(), and reduce(), which expect a function as an argument."
      ],
      "metadata": {
        "id": "_EtGU4ROJEHw"
      },
      "execution_count": null,
      "outputs": []
    },
    {
      "cell_type": "code",
      "source": [
        "Example with map():"
      ],
      "metadata": {
        "id": "29X1xImrJZkB"
      },
      "execution_count": null,
      "outputs": []
    },
    {
      "cell_type": "code",
      "source": [
        "numbers = [1, 2, 3, 4]\n",
        "squares = list(map(lambda x: x**2, numbers))\n",
        "print(squares)  # Output: [1, 4, 9, 16]"
      ],
      "metadata": {
        "colab": {
          "base_uri": "https://localhost:8080/"
        },
        "id": "oNdqP-MdRGcM",
        "outputId": "563436ac-794f-40bc-db8c-b07350701f89"
      },
      "execution_count": null,
      "outputs": [
        {
          "output_type": "stream",
          "name": "stdout",
          "text": [
            "[1, 4, 9, 16]\n"
          ]
        }
      ]
    },
    {
      "cell_type": "code",
      "source": [
        "3. Sort operations: Lambda functions can be used as key functions for sorting."
      ],
      "metadata": {
        "id": "-qYVVvWiRJDy"
      },
      "execution_count": null,
      "outputs": []
    },
    {
      "cell_type": "code",
      "source": [
        "Example:"
      ],
      "metadata": {
        "id": "P_C1mnS0RO-Q"
      },
      "execution_count": null,
      "outputs": []
    },
    {
      "cell_type": "code",
      "source": [
        "points = [(1, 2), (4, 1), (2, 3)]\n",
        "points.sort(key=lambda x: x[1])\n",
        "print(points)  # Output: [(4, 1), (1, 2), (2, 3)]  (sorted by second element)"
      ],
      "metadata": {
        "colab": {
          "base_uri": "https://localhost:8080/"
        },
        "id": "qQqScz3nRVaH",
        "outputId": "9c6d67bb-12a8-4bd5-d0a0-269e6a498ef6"
      },
      "execution_count": null,
      "outputs": [
        {
          "output_type": "stream",
          "name": "stdout",
          "text": [
            "[(4, 1), (1, 2), (2, 3)]\n"
          ]
        }
      ]
    },
    {
      "cell_type": "code",
      "source": [
        "4. Closures: Lambda functions can also be used to return functions, typically in functional programming scenarios."
      ],
      "metadata": {
        "id": "zAzGIoWeRXSQ"
      },
      "execution_count": null,
      "outputs": []
    },
    {
      "cell_type": "markdown",
      "source": [
        "However, because lambda functions are limited to a single expression, they are best suited for simple operations and not for more complex logic. For readability and maintainability, regular functions are preferred when the logic is more complex."
      ],
      "metadata": {
        "id": "OOVDQm2QRpih"
      }
    },
    {
      "cell_type": "markdown",
      "source": [
        "9. Explain the purpose and usage of the map() function in Python?"
      ],
      "metadata": {
        "id": "UoFZTlLARsSY"
      }
    },
    {
      "cell_type": "markdown",
      "source": [
        "The map() function in Python is used to apply a given function to all the items in an iterable (such as a list, tuple, etc.) and return a map object (which is an iterator) containing the results. It is a convenient way to perform transformations or operations on elements of an iterable without needing to explicitly write a loop.\n"
      ],
      "metadata": {
        "id": "MGDCsS5USG4g"
      }
    },
    {
      "cell_type": "code",
      "source": [
        "Syntax:"
      ],
      "metadata": {
        "id": "ahXiiE14SPbp"
      },
      "execution_count": null,
      "outputs": []
    },
    {
      "cell_type": "code",
      "source": [
        "map(function, iterable, ...)"
      ],
      "metadata": {
        "id": "6wgB4oIVSRko"
      },
      "execution_count": null,
      "outputs": []
    },
    {
      "cell_type": "code",
      "source": [
        "function: The function that will be applied to each item of the iterable.\n",
        "\n",
        "iterable: One or more iterable objects whose elements you want to transform."
      ],
      "metadata": {
        "id": "V92ADZOGSTwB"
      },
      "execution_count": null,
      "outputs": []
    },
    {
      "cell_type": "code",
      "source": [
        "If multiple iterables are provided, the function must accept as many arguments as there are iterables,\n",
        "\n",
        "  the function is applied to each set of items from the iterables in parallel (like the zip function)."
      ],
      "metadata": {
        "id": "ILEznRJzSX0h"
      },
      "execution_count": null,
      "outputs": []
    },
    {
      "cell_type": "code",
      "source": [
        "Purpose:\n",
        "\n",
        "A) To simplify applying a function to a sequence of data without writing a loop.\n",
        "\n",
        "B) Improves code readability and can make operations faster because it's optimized for such transformations.\n"
      ],
      "metadata": {
        "id": "aGr5Q52qVE2l"
      },
      "execution_count": null,
      "outputs": []
    },
    {
      "cell_type": "code",
      "source": [
        "Example 1: Single Iterable"
      ],
      "metadata": {
        "id": "t8EuN0O-VRBv"
      },
      "execution_count": null,
      "outputs": []
    },
    {
      "cell_type": "code",
      "source": [
        "# Apply square function to each item in a list\n",
        "def square(x):\n",
        "    return x ** 2\n",
        "\n",
        "numbers = [1, 2, 3, 4, 5]\n",
        "squared_numbers = map(square, numbers)\n",
        "print(list(squared_numbers))  # Output: [1, 4, 9, 16, 25]"
      ],
      "metadata": {
        "colab": {
          "base_uri": "https://localhost:8080/"
        },
        "id": "_vKT8tcnVUdS",
        "outputId": "90fbfb34-f565-4cc2-8c9e-2ddbe70a77a2"
      },
      "execution_count": null,
      "outputs": [
        {
          "output_type": "stream",
          "name": "stdout",
          "text": [
            "[1, 4, 9, 16, 25]\n"
          ]
        }
      ]
    },
    {
      "cell_type": "code",
      "source": [
        "Example 2: Multiple Iterables"
      ],
      "metadata": {
        "id": "_z0chJcGVYeQ"
      },
      "execution_count": null,
      "outputs": []
    },
    {
      "cell_type": "code",
      "source": [
        "# Add elements from two lists\n",
        "def add(a, b):\n",
        "    return a + b\n",
        "\n",
        "numbers1 = [1, 2, 3]\n",
        "numbers2 = [4, 5, 6]\n",
        "result = map(add, numbers1, numbers2)\n",
        "print(list(result))  # Output: [5, 7, 9]"
      ],
      "metadata": {
        "colab": {
          "base_uri": "https://localhost:8080/"
        },
        "id": "tNU7bMEXVoOT",
        "outputId": "50b1b59c-4658-42f2-f429-ad10eaef98d9"
      },
      "execution_count": null,
      "outputs": [
        {
          "output_type": "stream",
          "name": "stdout",
          "text": [
            "[5, 7, 9]\n"
          ]
        }
      ]
    },
    {
      "cell_type": "code",
      "source": [
        "Example 3: Using lambda with map()"
      ],
      "metadata": {
        "id": "lcUMfMfvVrFh"
      },
      "execution_count": null,
      "outputs": []
    },
    {
      "cell_type": "code",
      "source": [
        "# Using lambda for inline function definition\n",
        "numbers = [1, 2, 3, 4]\n",
        "doubled_numbers = map(lambda x: x * 2, numbers)\n",
        "print(list(doubled_numbers))  # Output: [2, 4, 6, 8]"
      ],
      "metadata": {
        "colab": {
          "base_uri": "https://localhost:8080/"
        },
        "id": "2oKRtSEAXXjJ",
        "outputId": "24c53944-4e49-4ca5-b9bb-ea8651564ffe"
      },
      "execution_count": null,
      "outputs": [
        {
          "output_type": "stream",
          "name": "stdout",
          "text": [
            "[2, 4, 6, 8]\n"
          ]
        }
      ]
    },
    {
      "cell_type": "code",
      "source": [
        "Key Points:\n",
        "\n",
        "map() returns a map object (iterator), which can be converted into a list, tuple, etc., using list() or tuple() functions.\n",
        "\n",
        "The map() function is useful when you need to apply a transformation function to an iterable efficiently without writing a loop manually.\n"
      ],
      "metadata": {
        "id": "S9-sUPq0XaFm"
      },
      "execution_count": null,
      "outputs": []
    },
    {
      "cell_type": "markdown",
      "source": [
        "10. What is the difference between `map()`, `reduce()`, and `filter()` functions in Python?"
      ],
      "metadata": {
        "id": "ftr-XJpQXnw5"
      }
    },
    {
      "cell_type": "markdown",
      "source": [
        "In Python, map(), reduce(), and filter() are higher-order functions that are used for processing collections, like lists or other iterable types. They serve different purposes:"
      ],
      "metadata": {
        "id": "i-LN4NODXscx"
      }
    },
    {
      "cell_type": "code",
      "source": [
        "1. map()\n",
        "\n",
        "Purpose: Applies a given function to all items in an input list (or any iterable) and returns a new iterable (map object in Python 3) with the results.\n",
        "\n",
        "Syntax: map(function, iterable)\n",
        "\n",
        "Behavior: It takes a function and one or more iterables, applies the function to each element of the iterable(s), and returns a new iterable of results.\n"
      ],
      "metadata": {
        "id": "SJ0xgo7EXzkJ"
      },
      "execution_count": null,
      "outputs": []
    },
    {
      "cell_type": "code",
      "source": [
        "Example:-"
      ],
      "metadata": {
        "id": "z9hzI9UkX6QI"
      },
      "execution_count": null,
      "outputs": []
    },
    {
      "cell_type": "code",
      "source": [
        "def square(x):\n",
        "    return x * x\n",
        "\n",
        "numbers = [1, 2, 3, 4]\n",
        "squared_numbers = list(map(square, numbers))\n",
        "print(squared_numbers)  # Output: [1, 4, 9, 16]"
      ],
      "metadata": {
        "colab": {
          "base_uri": "https://localhost:8080/"
        },
        "id": "1dLOGWa9YAmU",
        "outputId": "a1cfd3e1-5619-4bdf-ba23-8ef430d6b938"
      },
      "execution_count": null,
      "outputs": [
        {
          "output_type": "stream",
          "name": "stdout",
          "text": [
            "[1, 4, 9, 16]\n"
          ]
        }
      ]
    },
    {
      "cell_type": "code",
      "source": [
        "2. filter()\n",
        "\n",
        "Purpose: Filters the elements of an iterable based on a function that returns either True or False. It returns a new iterable (filter object in Python 3) containing only the elements for which the function returns True.\n",
        "\n",
        "Syntax: filter(function, iterable)\n",
        "\n",
        "Behavior: It applies a function to each element, and if the function returns True, the element is included in the result."
      ],
      "metadata": {
        "id": "ywKAwnrTX-SX"
      },
      "execution_count": null,
      "outputs": []
    },
    {
      "cell_type": "code",
      "source": [
        "Example:"
      ],
      "metadata": {
        "id": "pZlhF8BBYHyI"
      },
      "execution_count": null,
      "outputs": []
    },
    {
      "cell_type": "code",
      "source": [
        "def is_even(x):\n",
        "    return x % 2 == 0\n",
        "\n",
        "numbers = [1, 2, 3, 4, 5, 6]\n",
        "even_numbers = list(filter(is_even, numbers))\n",
        "print(even_numbers)  # Output: [2, 4, 6]"
      ],
      "metadata": {
        "colab": {
          "base_uri": "https://localhost:8080/"
        },
        "id": "USI9IqJ5YLD4",
        "outputId": "a9a139e4-2133-4dbd-e92a-f2a5e23c7a1d"
      },
      "execution_count": null,
      "outputs": [
        {
          "output_type": "stream",
          "name": "stdout",
          "text": [
            "[2, 4, 6]\n"
          ]
        }
      ]
    },
    {
      "cell_type": "code",
      "source": [
        "3. reduce() (from functools module)\n",
        "\n",
        "1) Purpose: Reduces a list to a single value by applying a binary function cumulatively to the elements of the iterable, from left to right.\n",
        "\n",
        "2) Syntax: reduce(function, iterable)\n",
        "\n",
        "3) Behavior: It applies a function that takes two arguments cumulatively to the items of the iterable, reducing it to a single result.\n"
      ],
      "metadata": {
        "id": "Jp7yThhRYOKQ"
      },
      "execution_count": null,
      "outputs": []
    },
    {
      "cell_type": "code",
      "source": [
        "Note: Unlike map() and filter(), reduce() is not built-in. You need to import it from the functools module."
      ],
      "metadata": {
        "id": "2h49oE2JYSN4"
      },
      "execution_count": null,
      "outputs": []
    },
    {
      "cell_type": "code",
      "source": [
        "Example:"
      ],
      "metadata": {
        "id": "S6rKNQL1Yctw"
      },
      "execution_count": null,
      "outputs": []
    },
    {
      "cell_type": "code",
      "source": [
        "from functools import reduce\n",
        "\n",
        "def add(x, y):\n",
        "    return x + y\n",
        "\n",
        "numbers = [1, 2, 3, 4]\n",
        "total_sum = reduce(add, numbers)\n",
        "print(total_sum)  # Output: 10"
      ],
      "metadata": {
        "colab": {
          "base_uri": "https://localhost:8080/"
        },
        "id": "5fn2_LXGYgGY",
        "outputId": "5e6beeaa-0579-4555-b60a-7c8b4e07c6d5"
      },
      "execution_count": null,
      "outputs": [
        {
          "output_type": "stream",
          "name": "stdout",
          "text": [
            "10\n"
          ]
        }
      ]
    },
    {
      "cell_type": "code",
      "source": [
        "Summary of Differences:\n",
        "\n",
        "1) map(): Transforms each element using a function and returns a new iterable.\n",
        "\n",
        "2) filter(): Selects elements based on a condition and returns a filtered iterable.\n",
        "\n",
        "3) reduce(): Combines elements into a single value by successively applying a binary function."
      ],
      "metadata": {
        "id": "C_VqyvknYhmv"
      },
      "execution_count": null,
      "outputs": []
    },
    {
      "cell_type": "markdown",
      "source": [
        "Each of these functions operates on iterables and performs a different kind of transformation."
      ],
      "metadata": {
        "id": "7FH01gfIYrYZ"
      }
    },
    {
      "cell_type": "markdown",
      "source": [
        "11. Using pen & Paper write the internal mechanism for sum operation using  reduce function on this given\n",
        "list:[47,11,42,13] ?\n",
        "\n"
      ],
      "metadata": {
        "id": "WnfMH4lNa0qk"
      }
    },
    {
      "cell_type": "markdown",
      "source": [
        "![WhatsApp Image 2024-10-18 at 5.00.08 PM.jpeg](data:image/jpeg;base64,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)"
      ],
      "metadata": {
        "id": "T08txdSOdMZg"
      }
    },
    {
      "cell_type": "markdown",
      "source": [
        "![WhatsApp Image 2024-10-18 at 5.00.38 PM.jpeg](data:image/jpeg;base64,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)"
      ],
      "metadata": {
        "id": "l5Hq-1Mid152"
      }
    },
    {
      "cell_type": "markdown",
      "source": [
        "![WhatsApp Image 2024-10-18 at 5.00.53 PM.jpeg](data:image/jpeg;base64,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)"
      ],
      "metadata": {
        "id": "rgpemkEieZ7b"
      }
    },
    {
      "cell_type": "markdown",
      "source": [
        "Practical Questions:\n"
      ],
      "metadata": {
        "id": "KpTixVv9m0Vs"
      }
    },
    {
      "cell_type": "markdown",
      "source": [
        " 1. Write a Python function that takes a list of numbers as input and returns the sum of all even numbers in the list?\n",
        "\n"
      ],
      "metadata": {
        "id": "51692TKJm5mp"
      }
    },
    {
      "cell_type": "markdown",
      "source": [
        "Here is a Python function that takes a list of numbers and returns the sum of all even numbers:"
      ],
      "metadata": {
        "id": "S0IQkzlMbBs7"
      }
    },
    {
      "cell_type": "code",
      "source": [
        "def sum_of_even_numbers(numbers):\n",
        "    return sum(num for num in numbers if num % 2 == 0)\n",
        "\n",
        "# Example usage:\n",
        "numbers_list = [1, 2, 3, 4, 5, 6]\n",
        "result = sum_of_even_numbers(numbers_list)\n",
        "print(result)  # Output will be 12 (2 + 4 + 6)"
      ],
      "metadata": {
        "colab": {
          "base_uri": "https://localhost:8080/"
        },
        "id": "vfGcQw05nf66",
        "outputId": "a38e736a-09d1-433c-d958-aa8c82be4e35"
      },
      "execution_count": null,
      "outputs": [
        {
          "output_type": "stream",
          "name": "stdout",
          "text": [
            "12\n"
          ]
        }
      ]
    },
    {
      "cell_type": "code",
      "source": [
        "This function uses a generator expression to filter and sum only the even numbers from the input list."
      ],
      "metadata": {
        "id": "X8z0k3ICnioL"
      },
      "execution_count": null,
      "outputs": []
    },
    {
      "cell_type": "markdown",
      "source": [
        "2. Create a Python function that accepts a string and returns the reverse of that string?"
      ],
      "metadata": {
        "id": "-vJiEx2Uoy2J"
      }
    },
    {
      "cell_type": "markdown",
      "source": [
        "Here's a Python function that accepts a string and returns its reverse:"
      ],
      "metadata": {
        "id": "xKIIx_tVo4q5"
      }
    },
    {
      "cell_type": "code",
      "source": [
        "def reverse_string(input_string):\n",
        "    return input_string[::-1]\n",
        "\n",
        "# Example usage\n",
        "example = \"Hello, world!\"\n",
        "reversed_example = reverse_string(example)\n",
        "print(reversed_example)  # Output: !dlrow ,olleH"
      ],
      "metadata": {
        "colab": {
          "base_uri": "https://localhost:8080/"
        },
        "id": "by37GnKRo9BD",
        "outputId": "3bd3d2c1-4967-4ef3-c1b3-4168ef460d83"
      },
      "execution_count": null,
      "outputs": [
        {
          "output_type": "stream",
          "name": "stdout",
          "text": [
            "!dlrow ,olleH\n"
          ]
        }
      ]
    },
    {
      "cell_type": "markdown",
      "source": [
        "This function uses Python's slicing feature ([::-1]) to reverse the input string."
      ],
      "metadata": {
        "id": "rp3tfIcgnqj7"
      }
    },
    {
      "cell_type": "markdown",
      "source": [
        "3. 3. Implement a Python function that takes a list of integers and returns a new list containing the squares of each number?\n"
      ],
      "metadata": {
        "id": "R3UjCGD9qWJ6"
      }
    },
    {
      "cell_type": "markdown",
      "source": [
        "Here’s a Python function that takes a list of integers and returns a new list containing the squares of each number"
      ],
      "metadata": {
        "id": "pO9IWMPRqrkR"
      }
    },
    {
      "cell_type": "code",
      "source": [
        "def square_numbers(numbers):\n",
        "    return [num ** 2 for num in numbers]\n",
        "\n",
        "# Example usage\n",
        "numbers = [1, 2, 3, 4, 5]\n",
        "squared_numbers = square_numbers(numbers)\n",
        "print(squared_numbers)"
      ],
      "metadata": {
        "colab": {
          "base_uri": "https://localhost:8080/"
        },
        "id": "ENsU0gdtsEiZ",
        "outputId": "61420f50-347a-4b47-8465-c3022d9b4cf0"
      },
      "execution_count": null,
      "outputs": [
        {
          "output_type": "stream",
          "name": "stdout",
          "text": [
            "[1, 4, 9, 16, 25]\n"
          ]
        }
      ]
    },
    {
      "cell_type": "code",
      "source": [
        "Explanation:\n",
        "\n",
        "1) The function square_numbers uses a list comprehension to iterate over each integer in the input list numbers.\n",
        "\n",
        "2) For each integer num, it calculates its square using num ** 2 and creates a new list with the squared values."
      ],
      "metadata": {
        "id": "YPBdjy8dsFq7"
      },
      "execution_count": null,
      "outputs": []
    },
    {
      "cell_type": "markdown",
      "source": [
        "4. 4. Write a Python function that checks if a given number is prime or not from 1 to 200 ?"
      ],
      "metadata": {
        "id": "OipgNZiwvDjF"
      }
    },
    {
      "cell_type": "markdown",
      "source": [
        "Here’s a Python function that checks if a number is prime within the range of 1 to 200:"
      ],
      "metadata": {
        "id": "6IBGiSIlvl4s"
      }
    },
    {
      "cell_type": "code",
      "source": [
        "def is_prime(number):\n",
        "    if number < 2:\n",
        "        return False\n",
        "    for i in range(2, int(number**0.5) + 1):\n",
        "        if number % i == 0:\n",
        "            return False\n",
        "    return True\n",
        "\n",
        "# Checking prime numbers from 1 to 200\n",
        "for num in range(1, 201):\n",
        "    if is_prime(num):\n",
        "        print(f\"{num} is a prime number\")"
      ],
      "metadata": {
        "id": "l7wB7TEPvrpA"
      },
      "execution_count": null,
      "outputs": []
    },
    {
      "cell_type": "code",
      "source": [
        "Explanation:\n",
        "\n",
        "1)The function is_prime(number) checks if a given number is prime.\n",
        "\n",
        "2) It returns False if the number is less than 2 (since 0 and 1 are not prime).\n",
        "\n",
        "3) The function checks divisibility from 2 to the square root of the number. If any number divides evenly, it's not prime.\n",
        "\n",
        "4)If no divisors are found, the function returns True, indicating the number is prime.\n",
        "\n",
        "5) The loop checks all numbers from 1 to 200 and prints out the primes.\n"
      ],
      "metadata": {
        "id": "zJL_FiHEvuGC"
      },
      "execution_count": null,
      "outputs": []
    },
    {
      "cell_type": "markdown",
      "source": [
        "5. Create an iterator class in Python that generates the Fibonacci sequence up to a specified number of terms?\n",
        "\n"
      ],
      "metadata": {
        "id": "LxSD5bCkv6pw"
      }
    },
    {
      "cell_type": "markdown",
      "source": [
        "Here’s an example of an iterator class in Python that generates the Fibonacci sequence up to a specified number of terms:"
      ],
      "metadata": {
        "id": "NoOUaIhGwe1p"
      }
    },
    {
      "cell_type": "code",
      "source": [
        "class FibonacciIterator:\n",
        "    def __init__(self, num_terms):\n",
        "        self.num_terms = num_terms\n",
        "        self.current_term = 0\n",
        "        self.a, self.b = 0, 1\n",
        "\n",
        "    def __iter__(self):\n",
        "        return self\n",
        "\n",
        "    def __next__(self):\n",
        "        if self.current_term >= self.num_terms:\n",
        "            raise StopIteration\n",
        "        if self.current_term == 0:\n",
        "            self.current_term += 1\n",
        "            return 0\n",
        "        elif self.current_term == 1:\n",
        "            self.current_term += 1\n",
        "            return 1\n",
        "        else:\n",
        "            next_value = self.a + self.b\n",
        "            self.a, self.b = self.b, next_value\n",
        "            self.current_term += 1\n",
        "            return next_value\n",
        "\n",
        "# Example usage\n",
        "fib = FibonacciIterator(10)  # Generate first 10 Fibonacci numbers\n",
        "for num in fib:\n",
        "    print(num)\n"
      ],
      "metadata": {
        "id": "Wa6widq3whLz"
      },
      "execution_count": null,
      "outputs": []
    },
    {
      "cell_type": "code",
      "source": [
        "Explanation:\n",
        "\n",
        "1) The __init__ method initializes the number of terms to generate (num_terms), the current term counter (current_term),\n",
        "   and the first two Fibonacci numbers (a and b).\n",
        "\n",
        "2) The __iter__ method returns the iterator object itself.\n",
        "\n",
        "3) The __next__ method generates the next Fibonacci number, raising a StopIteration exception when the specified number of terms is reached.\n"
      ],
      "metadata": {
        "id": "HqvmWm-3wnh5"
      },
      "execution_count": null,
      "outputs": []
    },
    {
      "cell_type": "markdown",
      "source": [
        "In the example usage, the Fibonacci sequence is printed for the first 10 terms."
      ],
      "metadata": {
        "id": "6PJoeTrTxEua"
      }
    },
    {
      "cell_type": "markdown",
      "source": [
        "6. Write a generator function in Python that yields the powers of 2 up to a given exponent?"
      ],
      "metadata": {
        "id": "GHEI_xE2x0nY"
      }
    },
    {
      "cell_type": "markdown",
      "source": [
        "Here’s a Python generator function that yields the powers of 2 up to a given exponent:"
      ],
      "metadata": {
        "id": "4IuR9443x30v"
      }
    },
    {
      "cell_type": "code",
      "source": [
        "def powers_of_two(max_exp):\n",
        "    for exp in range(max_exp + 1):\n",
        "        yield 2 ** exp"
      ],
      "metadata": {
        "id": "rnQHy8wax7Aw"
      },
      "execution_count": null,
      "outputs": []
    },
    {
      "cell_type": "code",
      "source": [
        "Example usage:"
      ],
      "metadata": {
        "id": "HrpA7PCax8dw"
      },
      "execution_count": null,
      "outputs": []
    },
    {
      "cell_type": "code",
      "source": [
        "for power in powers_of_two(5):\n",
        "    print(power)"
      ],
      "metadata": {
        "id": "ZmhPQiO4wwGB"
      },
      "execution_count": null,
      "outputs": []
    },
    {
      "cell_type": "code",
      "source": [
        "This will output:"
      ],
      "metadata": {
        "id": "C15npVNyyAVK"
      },
      "execution_count": null,
      "outputs": []
    },
    {
      "cell_type": "code",
      "source": [
        "1\n",
        "2\n",
        "4\n",
        "8\n",
        "16\n",
        "32"
      ],
      "metadata": {
        "id": "TcbJLMvGyC5B"
      },
      "execution_count": null,
      "outputs": []
    },
    {
      "cell_type": "code",
      "source": [
        "This generator yields powers of 2 starting from\n",
        "2\n",
        "0\n",
        "2\n",
        "0\n",
        "  up to 2^{\\text{max_exp}}."
      ],
      "metadata": {
        "id": "4X_ZYx1myEbq"
      },
      "execution_count": null,
      "outputs": []
    },
    {
      "cell_type": "markdown",
      "source": [
        "7. Implement a generator function that reads a file line by line and yields each line as a string?"
      ],
      "metadata": {
        "id": "_CC54-vtyLqP"
      }
    },
    {
      "cell_type": "code",
      "source": [
        "Here is an implementation of a generator function that reads a file line by line and yields each line as a string:"
      ],
      "metadata": {
        "id": "8sk2F1QdySCA"
      },
      "execution_count": null,
      "outputs": []
    },
    {
      "cell_type": "code",
      "source": [
        "def read_file_line_by_line(file_path):\n",
        "    with open(file_path, 'r') as file:\n",
        "        for line in file:\n",
        "            yield line.strip()  # .strip() removes any leading/trailing whitespace characters, including newlines."
      ],
      "metadata": {
        "id": "YNHnfKICyUfh"
      },
      "execution_count": null,
      "outputs": []
    },
    {
      "cell_type": "code",
      "source": [
        "Example usage:"
      ],
      "metadata": {
        "id": "xTtZ1GeZyXTy"
      },
      "execution_count": null,
      "outputs": []
    },
    {
      "cell_type": "code",
      "source": [
        "file_path = 'example.txt'\n",
        "\n",
        "for line in read_file_line_by_line(file_path):\n",
        "    print(line)"
      ],
      "metadata": {
        "id": "vpiRnjh9yZpT"
      },
      "execution_count": null,
      "outputs": []
    },
    {
      "cell_type": "code",
      "source": [
        "This function uses a generator (yield), which reads and returns one line at a time.\n",
        "It is efficient, especially when working with large files, as it doesn't load the entire file into memory at once."
      ],
      "metadata": {
        "id": "5xrvSa2MycKZ"
      },
      "execution_count": null,
      "outputs": []
    },
    {
      "cell_type": "markdown",
      "source": [
        "8. Use a lambda function in Python to sort a list of tuples based on the second element of each tuple?"
      ],
      "metadata": {
        "id": "8y8UtjLuyfZJ"
      }
    },
    {
      "cell_type": "markdown",
      "source": [
        "You can use a lambda function in Python to sort a list of tuples by the second element of each tuple like this"
      ],
      "metadata": {
        "id": "V8low2e6yl7b"
      }
    },
    {
      "cell_type": "code",
      "source": [
        "# Example list of tuples\n",
        "list_of_tuples = [(1, 4), (3, 1), (5, 2), (2, 3)]\n",
        "\n",
        "# Sorting the list by the second element of each tuple using a lambda function\n",
        "sorted_list = sorted(list_of_tuples, key=lambda x: x[1])\n",
        "\n",
        "# Print the sorted list\n",
        "print(sorted_list)"
      ],
      "metadata": {
        "id": "waZdQpgFypbJ"
      },
      "execution_count": null,
      "outputs": []
    },
    {
      "cell_type": "code",
      "source": [
        "Output:"
      ],
      "metadata": {
        "id": "UfaB9CfByrMI"
      },
      "execution_count": null,
      "outputs": []
    },
    {
      "cell_type": "code",
      "source": [
        "[(3, 1), (5, 2), (2, 3), (1, 4)]"
      ],
      "metadata": {
        "id": "ZsmWtVBYyuNw"
      },
      "execution_count": null,
      "outputs": []
    },
    {
      "cell_type": "code",
      "source": [
        "In this example:\n",
        "\n",
        "1) The lambda x: x[1] part extracts the second element (x[1]) of each tuple.\n",
        "\n",
        "2) The sorted() function uses this lambda function to determine the order of sorting."
      ],
      "metadata": {
        "id": "cDYw43yjyvrf"
      },
      "execution_count": null,
      "outputs": []
    },
    {
      "cell_type": "markdown",
      "source": [
        "9. Write a Python program that uses map() to convert a list of temperatures from Celsius to Fahrenheit?"
      ],
      "metadata": {
        "id": "UXfgXBquy-yA"
      }
    },
    {
      "cell_type": "markdown",
      "source": [
        "You can use the formula to convert Celsius to Fahrenheit:"
      ],
      "metadata": {
        "id": "8guScXjlzDSq"
      }
    },
    {
      "cell_type": "code",
      "source": [
        "F=(\n",
        "5\n",
        "9\n",
        "​\n",
        " ×C)+32"
      ],
      "metadata": {
        "id": "pvbGjZHfzGbC"
      },
      "execution_count": null,
      "outputs": []
    },
    {
      "cell_type": "code",
      "source": [
        "# Function to convert Celsius to Fahrenheit\n",
        "def celsius_to_fahrenheit(celsius):\n",
        "    return (9/5) * celsius + 32\n",
        "\n",
        "# List of temperatures in Celsius\n",
        "celsius_temperatures = [0, 20, 37, 100]\n",
        "\n",
        "# Using map() to convert each Celsius temperature to Fahrenheit\n",
        "fahrenheit_temperatures = list(map(celsius_to_fahrenheit, celsius_temperatures))\n",
        "\n",
        "# Output the Fahrenheit temperatures\n",
        "print(fahrenheit_temperatures)\n"
      ],
      "metadata": {
        "id": "TR1HGF1Hy9Yq"
      },
      "execution_count": null,
      "outputs": []
    },
    {
      "cell_type": "code",
      "source": [
        "Explanation:\n",
        "\n",
        "1) map() applies the celsius_to_fahrenheit function to each element of the celsius_temperatures list.\n",
        "\n",
        "2) The result is converted to a list for easier readability.\n",
        "\n",
        "3) The output will be the equivalent temperatures in Fahrenheit.\n"
      ],
      "metadata": {
        "id": "QL4CdC0azN1f"
      },
      "execution_count": null,
      "outputs": []
    },
    {
      "cell_type": "markdown",
      "source": [
        "10. Create a Python program that uses `filter()` to remove all the vowels from a given string?"
      ],
      "metadata": {
        "id": "Q6iVrGmBzdgJ"
      }
    },
    {
      "cell_type": "markdown",
      "source": [
        "You can create a Python program that uses filter() along with a lambda function to remove vowels from a string. Here's how you can do it:"
      ],
      "metadata": {
        "id": "h4hMY6L5z7cK"
      }
    },
    {
      "cell_type": "code",
      "source": [
        "def remove_vowels(input_str):\n",
        "    vowels = \"aeiouAEIOU\"\n",
        "    filtered_str = filter(lambda x: x not in vowels, input_str)\n",
        "    return ''.join(filtered_str)\n",
        "\n",
        "# Example usage:\n",
        "input_string = \"Hello, World!\"\n",
        "result = remove_vowels(input_string)\n",
        "print(\"Original String:\", input_string)\n",
        "print(\"String without vowels:\", result)"
      ],
      "metadata": {
        "id": "8wfIlHhdz97L"
      },
      "execution_count": null,
      "outputs": []
    },
    {
      "cell_type": "code",
      "source": [
        "In this program:\n",
        "\n",
        "1) remove_vowels is a function that takes an input string (input_str).\n",
        "\n",
        "2) vowels is a string containing all vowels (both lowercase and uppercase).\n",
        "\n",
        "3) filter(lambda x: x not in vowels, input_str) filters out characters from input_str that are not vowels.\n",
        "\n",
        "4) join() is used to concatenate the characters back into a string.\n"
      ],
      "metadata": {
        "id": "FTqqZB4t0Cl5"
      },
      "execution_count": null,
      "outputs": []
    },
    {
      "cell_type": "code",
      "source": [
        "When you run this program with input_string = \"Hello, World!\", the output will be:"
      ],
      "metadata": {
        "id": "Z2NhK5Sy0Vog"
      },
      "execution_count": null,
      "outputs": []
    },
    {
      "cell_type": "code",
      "source": [
        "Original String: Hello, World!\n",
        "String without vowels: Hll, Wrld!"
      ],
      "metadata": {
        "id": "p_f3HjwC0WxY"
      },
      "execution_count": null,
      "outputs": []
    },
    {
      "cell_type": "code",
      "source": [
        "This demonstrates how filter() can be used to selectively remove characters based on a condition—in this case, the absence of vowels.\n"
      ],
      "metadata": {
        "id": "S0EuxRQq0Ysw"
      },
      "execution_count": null,
      "outputs": []
    },
    {
      "cell_type": "code",
      "source": [
        "11) Imagine an accounting routine used in a book shop. It works on a list with sublists, which look like this:\n",
        "order no    book title and author                 quantity   price per item\n",
        "34587         learning python, mark lutz              4          40.95\n",
        "98762         programming python mark lutz            5          56.80\n",
        "77226         head first phython , paul barry         3          32.95\n",
        "88112        Einfuhrung in python 3 , bernd klein     3          24.99\n",
        "\n",
        "Write a Python program, which returns a list with 2-tuples. Each tuple consists of the order number and the product of the price per item and the quantity. The product should be increased by 10,- € if the value of the order is smaller than 100,00 €.\n",
        "Write a Python program using lambda and map?\n"
      ],
      "metadata": {
        "id": "6k1W6rT9hLpo"
      },
      "execution_count": null,
      "outputs": []
    },
    {
      "cell_type": "markdown",
      "source": [
        "Here is a Python program that uses lambda and map to return a list of 2-tuples, each consisting of the order number and the total value of the order, with an additional 10€ charge if the value is less than 100€:"
      ],
      "metadata": {
        "id": "yVLpYBCrhbvH"
      }
    },
    {
      "cell_type": "code",
      "source": [
        "# List of orders: [order number, (book title and author), quantity, price per item]\n",
        "orders = [\n",
        "    [34587, \"Learning Python, Mark Lutz\", 4, 40.95],\n",
        "    [98762, \"Programming Python, Mark Lutz\", 5, 56.80],\n",
        "    [77226, \"Head First Python, Paul Barry\", 3, 32.95],\n",
        "    [88112, \"Einführung in Python 3, Bernd Klein\", 3, 24.99]\n",
        "]\n",
        "\n",
        "# Function to calculate total order value with conditions\n",
        "calculate_order = lambda order: (\n",
        "    order[0],  # Order number\n",
        "    order[2] * order[3] + (10 if order[2] * order[3] < 100 else 0)  # Total value with additional charge if < 100\n",
        ")\n",
        "\n",
        "# Using map to apply the function to all orders\n",
        "result = list(map(calculate_order, orders))\n",
        "\n",
        "# Print the result\n",
        "print(result)"
      ],
      "metadata": {
        "id": "88PhRrpP0ZaY"
      },
      "execution_count": null,
      "outputs": []
    },
    {
      "cell_type": "code",
      "source": [
        "Explanation:\n",
        "\n",
        "1) orders: A list of sublists, where each sublist contains the order number, book details, quantity, and price per item.\n",
        "\n",
        "2) calculate_order: A lambda function that computes the total price for each order (quantity * price per item) and adds 10€ if the total is less than 100€.\n",
        "\n",
        "3) map: This applies the calculate_order function to every order in the orders list.\n",
        "\n",
        "4) list(): Converts the map object into a list.\n"
      ],
      "metadata": {
        "id": "h-ijJQ3Sho7u"
      },
      "execution_count": null,
      "outputs": []
    },
    {
      "cell_type": "code",
      "source": [
        "Output:\n",
        "\n",
        "The program returns a list of tuples containing the order number and the total value for each order."
      ],
      "metadata": {
        "id": "TpgNUn8rh1Cn"
      },
      "execution_count": null,
      "outputs": []
    }
  ]
}